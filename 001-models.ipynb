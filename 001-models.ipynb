{
 "cells": [
  {
   "cell_type": "code",
   "execution_count": 210,
   "metadata": {},
   "outputs": [],
   "source": [
    "import pandas as pd\n",
    "import numpy as np\n",
    "import matplotlib.pyplot as plt\n",
    "\n",
    "\n",
    "from deepchem import deepchem as dc\n",
    "from deepchem.models import GraphConvModel\n",
    "\n",
    "from rdkit import Chem\n",
    "from rdkit.Chem import Draw, Descriptors"
   ]
  },
  {
   "cell_type": "code",
   "execution_count": 211,
   "metadata": {},
   "outputs": [],
   "source": [
    "df = pd.read_csv('ABC_smiles_data.csv')\n",
    "df = df.set_index('1')\n",
    "\n",
    "# create rdkit objects from smiles unless the column alreadt exist.\n",
    "if 'molecules' not in df.columns:\n",
    "    df['molecules'] = df['SMILES'].apply(Chem.MolFromSmiles)\n",
    "\n",
    "# store name of receptors in a list\n",
    "receptors = df.iloc[:, :11].columns.tolist()"
   ]
  },
  {
   "cell_type": "code",
   "execution_count": 212,
   "metadata": {},
   "outputs": [
    {
     "data": {
      "text/html": [
       "<div>\n",
       "<style scoped>\n",
       "    .dataframe tbody tr th:only-of-type {\n",
       "        vertical-align: middle;\n",
       "    }\n",
       "\n",
       "    .dataframe tbody tr th {\n",
       "        vertical-align: top;\n",
       "    }\n",
       "\n",
       "    .dataframe thead th {\n",
       "        text-align: right;\n",
       "    }\n",
       "</style>\n",
       "<table border=\"1\" class=\"dataframe\">\n",
       "  <thead>\n",
       "    <tr style=\"text-align: right;\">\n",
       "      <th></th>\n",
       "      <th>BCRP</th>\n",
       "      <th>MDR1</th>\n",
       "      <th>MRP1</th>\n",
       "      <th>MRP2</th>\n",
       "      <th>MRP3</th>\n",
       "      <th>MRP4</th>\n",
       "      <th>MRP5</th>\n",
       "      <th>MRP6</th>\n",
       "      <th>MRP7</th>\n",
       "      <th>MRP8</th>\n",
       "      <th>MRP9</th>\n",
       "      <th>SMILES</th>\n",
       "      <th>molecules</th>\n",
       "      <th>MolWt</th>\n",
       "    </tr>\n",
       "    <tr>\n",
       "      <th>1</th>\n",
       "      <th></th>\n",
       "      <th></th>\n",
       "      <th></th>\n",
       "      <th></th>\n",
       "      <th></th>\n",
       "      <th></th>\n",
       "      <th></th>\n",
       "      <th></th>\n",
       "      <th></th>\n",
       "      <th></th>\n",
       "      <th></th>\n",
       "      <th></th>\n",
       "      <th></th>\n",
       "      <th></th>\n",
       "    </tr>\n",
       "  </thead>\n",
       "  <tbody>\n",
       "    <tr>\n",
       "      <th>8-HOUR BAYER; ASPIRIN</th>\n",
       "      <td>-5.3</td>\n",
       "      <td>-6.4</td>\n",
       "      <td>-5.1</td>\n",
       "      <td>-4.9</td>\n",
       "      <td>-4.1</td>\n",
       "      <td>-5.1</td>\n",
       "      <td>-9.3</td>\n",
       "      <td>-4.1</td>\n",
       "      <td>-3.5</td>\n",
       "      <td>-4.2</td>\n",
       "      <td>-6.6</td>\n",
       "      <td>CC(=O)Oc1ccccc1C(=O)[O-]</td>\n",
       "      <td>&lt;rdkit.Chem.rdchem.Mol object at 0x000001E8DD0...</td>\n",
       "      <td>179.151</td>\n",
       "    </tr>\n",
       "    <tr>\n",
       "      <th>8-MOP; METHOXSALEN</th>\n",
       "      <td>-8.0</td>\n",
       "      <td>-6.4</td>\n",
       "      <td>-4.8</td>\n",
       "      <td>-3.9</td>\n",
       "      <td>-4.7</td>\n",
       "      <td>-4.7</td>\n",
       "      <td>-3.8</td>\n",
       "      <td>-3.9</td>\n",
       "      <td>-4.7</td>\n",
       "      <td>-5.7</td>\n",
       "      <td>-3.4</td>\n",
       "      <td>COc1c2occc2cc2ccc(=O)oc12</td>\n",
       "      <td>&lt;rdkit.Chem.rdchem.Mol object at 0x000001E8DD0...</td>\n",
       "      <td>216.192</td>\n",
       "    </tr>\n",
       "    <tr>\n",
       "      <th>A-POXIDE; CHLORDIAZEPOXIDE HYDROCHLORIDE</th>\n",
       "      <td>-10.1</td>\n",
       "      <td>-10.7</td>\n",
       "      <td>-7.9</td>\n",
       "      <td>-6.9</td>\n",
       "      <td>-7.9</td>\n",
       "      <td>-6.9</td>\n",
       "      <td>-8.5</td>\n",
       "      <td>-6.2</td>\n",
       "      <td>-4.4</td>\n",
       "      <td>-9.7</td>\n",
       "      <td>-9.5</td>\n",
       "      <td>CNC1=Nc2ccc(Cl)cc2C(c2ccccc2)=[N+]([O-])C1</td>\n",
       "      <td>&lt;rdkit.Chem.rdchem.Mol object at 0x000001E8DD0...</td>\n",
       "      <td>299.761</td>\n",
       "    </tr>\n",
       "    <tr>\n",
       "      <th>ABACAVIR AND LAMIVUDINE; LAMIVUDINE</th>\n",
       "      <td>-7.1</td>\n",
       "      <td>-6.3</td>\n",
       "      <td>-5.9</td>\n",
       "      <td>-6.7</td>\n",
       "      <td>-5.0</td>\n",
       "      <td>-5.0</td>\n",
       "      <td>-7.4</td>\n",
       "      <td>-5.6</td>\n",
       "      <td>-5.2</td>\n",
       "      <td>-4.6</td>\n",
       "      <td>-6.7</td>\n",
       "      <td>Nc1ccn([C@H]2CS[C@H](CO)O2)c(=O)n1</td>\n",
       "      <td>&lt;rdkit.Chem.rdchem.Mol object at 0x000001E8DD0...</td>\n",
       "      <td>229.261</td>\n",
       "    </tr>\n",
       "    <tr>\n",
       "      <th>ABACAVIR SULFATE, LAMIVUDINE AND ZIDOVUDINE; ZIDOVUDINE</th>\n",
       "      <td>-6.8</td>\n",
       "      <td>-7.6</td>\n",
       "      <td>-5.5</td>\n",
       "      <td>-4.6</td>\n",
       "      <td>-5.3</td>\n",
       "      <td>-5.1</td>\n",
       "      <td>-6.6</td>\n",
       "      <td>-4.4</td>\n",
       "      <td>-5.0</td>\n",
       "      <td>-3.8</td>\n",
       "      <td>-5.0</td>\n",
       "      <td>Cc1cn([C@H]2C[C@H](N=[N+]=[N-])[C@@H](CO)O2)c(...</td>\n",
       "      <td>&lt;rdkit.Chem.rdchem.Mol object at 0x000001E8DD0...</td>\n",
       "      <td>267.245</td>\n",
       "    </tr>\n",
       "    <tr>\n",
       "      <th>...</th>\n",
       "      <td>...</td>\n",
       "      <td>...</td>\n",
       "      <td>...</td>\n",
       "      <td>...</td>\n",
       "      <td>...</td>\n",
       "      <td>...</td>\n",
       "      <td>...</td>\n",
       "      <td>...</td>\n",
       "      <td>...</td>\n",
       "      <td>...</td>\n",
       "      <td>...</td>\n",
       "      <td>...</td>\n",
       "      <td>...</td>\n",
       "      <td>...</td>\n",
       "    </tr>\n",
       "    <tr>\n",
       "      <th>ZONTIVITY; VORAPAXAR SULFATE</th>\n",
       "      <td>-10.1</td>\n",
       "      <td>-8.6</td>\n",
       "      <td>-5.2</td>\n",
       "      <td>-5.8</td>\n",
       "      <td>-5.9</td>\n",
       "      <td>-6.9</td>\n",
       "      <td>-7.5</td>\n",
       "      <td>-3.2</td>\n",
       "      <td>-3.9</td>\n",
       "      <td>-5.8</td>\n",
       "      <td>-5.9</td>\n",
       "      <td>CCOC(=O)N[C@@H]1CC[C@@H]2[C@@H](C1)C[C@H]1C(=O...</td>\n",
       "      <td>&lt;rdkit.Chem.rdchem.Mol object at 0x000001E8DD0...</td>\n",
       "      <td>492.591</td>\n",
       "    </tr>\n",
       "    <tr>\n",
       "      <th>ZYDELIG; IDELALISIB</th>\n",
       "      <td>-9.3</td>\n",
       "      <td>-8.5</td>\n",
       "      <td>-6.4</td>\n",
       "      <td>-5.2</td>\n",
       "      <td>-6.1</td>\n",
       "      <td>-8.2</td>\n",
       "      <td>-7.2</td>\n",
       "      <td>-6.0</td>\n",
       "      <td>-5.4</td>\n",
       "      <td>-6.3</td>\n",
       "      <td>-6.0</td>\n",
       "      <td>CC[C@H](Nc1ncnc2[nH]cnc12)c1nc2cccc(F)c2c(=O)n...</td>\n",
       "      <td>&lt;rdkit.Chem.rdchem.Mol object at 0x000001E8DD0...</td>\n",
       "      <td>415.432</td>\n",
       "    </tr>\n",
       "    <tr>\n",
       "      <th>ZYFLO CR; ZILEUTON</th>\n",
       "      <td>-7.4</td>\n",
       "      <td>-7.6</td>\n",
       "      <td>-5.7</td>\n",
       "      <td>-7.1</td>\n",
       "      <td>-6.6</td>\n",
       "      <td>-5.9</td>\n",
       "      <td>-6.3</td>\n",
       "      <td>-5.5</td>\n",
       "      <td>-5.3</td>\n",
       "      <td>-5.6</td>\n",
       "      <td>-6.7</td>\n",
       "      <td>C[C@@H](c1cc2ccccc2s1)N(O)C(N)=O</td>\n",
       "      <td>&lt;rdkit.Chem.rdchem.Mol object at 0x000001E8DD0...</td>\n",
       "      <td>236.296</td>\n",
       "    </tr>\n",
       "    <tr>\n",
       "      <th>ZYKADIA; CERITINIB</th>\n",
       "      <td>-6.9</td>\n",
       "      <td>-10.0</td>\n",
       "      <td>-6.2</td>\n",
       "      <td>-6.7</td>\n",
       "      <td>-7.0</td>\n",
       "      <td>-7.8</td>\n",
       "      <td>-5.3</td>\n",
       "      <td>-5.7</td>\n",
       "      <td>-5.2</td>\n",
       "      <td>-7.3</td>\n",
       "      <td>-5.5</td>\n",
       "      <td>Cc1cc(Nc2ncc(Cl)c(Nc3ccccc3S(=O)(=O)C(C)C)n2)c...</td>\n",
       "      <td>&lt;rdkit.Chem.rdchem.Mol object at 0x000001E8DD0...</td>\n",
       "      <td>559.156</td>\n",
       "    </tr>\n",
       "    <tr>\n",
       "      <th>ZYTIGA; ABIRATERONE ACETATE</th>\n",
       "      <td>-4.5</td>\n",
       "      <td>-8.9</td>\n",
       "      <td>-6.5</td>\n",
       "      <td>-4.9</td>\n",
       "      <td>-5.6</td>\n",
       "      <td>-7.7</td>\n",
       "      <td>-7.7</td>\n",
       "      <td>-4.3</td>\n",
       "      <td>-4.3</td>\n",
       "      <td>-3.4</td>\n",
       "      <td>-6.2</td>\n",
       "      <td>CC(=O)O[C@H]1CC[C@@]2(C)C(=CC[C@@H]3[C@@H]2CC[...</td>\n",
       "      <td>&lt;rdkit.Chem.rdchem.Mol object at 0x000001E8DD0...</td>\n",
       "      <td>391.555</td>\n",
       "    </tr>\n",
       "  </tbody>\n",
       "</table>\n",
       "<p>932 rows × 14 columns</p>\n",
       "</div>"
      ],
      "text/plain": [
       "                                                    BCRP  MDR1  MRP1  MRP2  \\\n",
       "1                                                                            \n",
       "8-HOUR BAYER; ASPIRIN                               -5.3  -6.4  -5.1  -4.9   \n",
       "8-MOP; METHOXSALEN                                  -8.0  -6.4  -4.8  -3.9   \n",
       "A-POXIDE; CHLORDIAZEPOXIDE HYDROCHLORIDE           -10.1 -10.7  -7.9  -6.9   \n",
       "ABACAVIR AND LAMIVUDINE; LAMIVUDINE                 -7.1  -6.3  -5.9  -6.7   \n",
       "ABACAVIR SULFATE, LAMIVUDINE AND ZIDOVUDINE; ZI...  -6.8  -7.6  -5.5  -4.6   \n",
       "...                                                  ...   ...   ...   ...   \n",
       "ZONTIVITY; VORAPAXAR SULFATE                       -10.1  -8.6  -5.2  -5.8   \n",
       "ZYDELIG; IDELALISIB                                 -9.3  -8.5  -6.4  -5.2   \n",
       "ZYFLO CR; ZILEUTON                                  -7.4  -7.6  -5.7  -7.1   \n",
       "ZYKADIA; CERITINIB                                  -6.9 -10.0  -6.2  -6.7   \n",
       "ZYTIGA; ABIRATERONE ACETATE                         -4.5  -8.9  -6.5  -4.9   \n",
       "\n",
       "                                                    MRP3  MRP4  MRP5  MRP6  \\\n",
       "1                                                                            \n",
       "8-HOUR BAYER; ASPIRIN                               -4.1  -5.1  -9.3  -4.1   \n",
       "8-MOP; METHOXSALEN                                  -4.7  -4.7  -3.8  -3.9   \n",
       "A-POXIDE; CHLORDIAZEPOXIDE HYDROCHLORIDE            -7.9  -6.9  -8.5  -6.2   \n",
       "ABACAVIR AND LAMIVUDINE; LAMIVUDINE                 -5.0  -5.0  -7.4  -5.6   \n",
       "ABACAVIR SULFATE, LAMIVUDINE AND ZIDOVUDINE; ZI...  -5.3  -5.1  -6.6  -4.4   \n",
       "...                                                  ...   ...   ...   ...   \n",
       "ZONTIVITY; VORAPAXAR SULFATE                        -5.9  -6.9  -7.5  -3.2   \n",
       "ZYDELIG; IDELALISIB                                 -6.1  -8.2  -7.2  -6.0   \n",
       "ZYFLO CR; ZILEUTON                                  -6.6  -5.9  -6.3  -5.5   \n",
       "ZYKADIA; CERITINIB                                  -7.0  -7.8  -5.3  -5.7   \n",
       "ZYTIGA; ABIRATERONE ACETATE                         -5.6  -7.7  -7.7  -4.3   \n",
       "\n",
       "                                                    MRP7  MRP8  MRP9  \\\n",
       "1                                                                      \n",
       "8-HOUR BAYER; ASPIRIN                               -3.5  -4.2  -6.6   \n",
       "8-MOP; METHOXSALEN                                  -4.7  -5.7  -3.4   \n",
       "A-POXIDE; CHLORDIAZEPOXIDE HYDROCHLORIDE            -4.4  -9.7  -9.5   \n",
       "ABACAVIR AND LAMIVUDINE; LAMIVUDINE                 -5.2  -4.6  -6.7   \n",
       "ABACAVIR SULFATE, LAMIVUDINE AND ZIDOVUDINE; ZI...  -5.0  -3.8  -5.0   \n",
       "...                                                  ...   ...   ...   \n",
       "ZONTIVITY; VORAPAXAR SULFATE                        -3.9  -5.8  -5.9   \n",
       "ZYDELIG; IDELALISIB                                 -5.4  -6.3  -6.0   \n",
       "ZYFLO CR; ZILEUTON                                  -5.3  -5.6  -6.7   \n",
       "ZYKADIA; CERITINIB                                  -5.2  -7.3  -5.5   \n",
       "ZYTIGA; ABIRATERONE ACETATE                         -4.3  -3.4  -6.2   \n",
       "\n",
       "                                                                                               SMILES  \\\n",
       "1                                                                                                       \n",
       "8-HOUR BAYER; ASPIRIN                                                        CC(=O)Oc1ccccc1C(=O)[O-]   \n",
       "8-MOP; METHOXSALEN                                                          COc1c2occc2cc2ccc(=O)oc12   \n",
       "A-POXIDE; CHLORDIAZEPOXIDE HYDROCHLORIDE                   CNC1=Nc2ccc(Cl)cc2C(c2ccccc2)=[N+]([O-])C1   \n",
       "ABACAVIR AND LAMIVUDINE; LAMIVUDINE                                Nc1ccn([C@H]2CS[C@H](CO)O2)c(=O)n1   \n",
       "ABACAVIR SULFATE, LAMIVUDINE AND ZIDOVUDINE; ZI...  Cc1cn([C@H]2C[C@H](N=[N+]=[N-])[C@@H](CO)O2)c(...   \n",
       "...                                                                                               ...   \n",
       "ZONTIVITY; VORAPAXAR SULFATE                        CCOC(=O)N[C@@H]1CC[C@@H]2[C@@H](C1)C[C@H]1C(=O...   \n",
       "ZYDELIG; IDELALISIB                                 CC[C@H](Nc1ncnc2[nH]cnc12)c1nc2cccc(F)c2c(=O)n...   \n",
       "ZYFLO CR; ZILEUTON                                                   C[C@@H](c1cc2ccccc2s1)N(O)C(N)=O   \n",
       "ZYKADIA; CERITINIB                                  Cc1cc(Nc2ncc(Cl)c(Nc3ccccc3S(=O)(=O)C(C)C)n2)c...   \n",
       "ZYTIGA; ABIRATERONE ACETATE                         CC(=O)O[C@H]1CC[C@@]2(C)C(=CC[C@@H]3[C@@H]2CC[...   \n",
       "\n",
       "                                                                                            molecules  \\\n",
       "1                                                                                                       \n",
       "8-HOUR BAYER; ASPIRIN                               <rdkit.Chem.rdchem.Mol object at 0x000001E8DD0...   \n",
       "8-MOP; METHOXSALEN                                  <rdkit.Chem.rdchem.Mol object at 0x000001E8DD0...   \n",
       "A-POXIDE; CHLORDIAZEPOXIDE HYDROCHLORIDE            <rdkit.Chem.rdchem.Mol object at 0x000001E8DD0...   \n",
       "ABACAVIR AND LAMIVUDINE; LAMIVUDINE                 <rdkit.Chem.rdchem.Mol object at 0x000001E8DD0...   \n",
       "ABACAVIR SULFATE, LAMIVUDINE AND ZIDOVUDINE; ZI...  <rdkit.Chem.rdchem.Mol object at 0x000001E8DD0...   \n",
       "...                                                                                               ...   \n",
       "ZONTIVITY; VORAPAXAR SULFATE                        <rdkit.Chem.rdchem.Mol object at 0x000001E8DD0...   \n",
       "ZYDELIG; IDELALISIB                                 <rdkit.Chem.rdchem.Mol object at 0x000001E8DD0...   \n",
       "ZYFLO CR; ZILEUTON                                  <rdkit.Chem.rdchem.Mol object at 0x000001E8DD0...   \n",
       "ZYKADIA; CERITINIB                                  <rdkit.Chem.rdchem.Mol object at 0x000001E8DD0...   \n",
       "ZYTIGA; ABIRATERONE ACETATE                         <rdkit.Chem.rdchem.Mol object at 0x000001E8DD0...   \n",
       "\n",
       "                                                      MolWt  \n",
       "1                                                            \n",
       "8-HOUR BAYER; ASPIRIN                               179.151  \n",
       "8-MOP; METHOXSALEN                                  216.192  \n",
       "A-POXIDE; CHLORDIAZEPOXIDE HYDROCHLORIDE            299.761  \n",
       "ABACAVIR AND LAMIVUDINE; LAMIVUDINE                 229.261  \n",
       "ABACAVIR SULFATE, LAMIVUDINE AND ZIDOVUDINE; ZI...  267.245  \n",
       "...                                                     ...  \n",
       "ZONTIVITY; VORAPAXAR SULFATE                        492.591  \n",
       "ZYDELIG; IDELALISIB                                 415.432  \n",
       "ZYFLO CR; ZILEUTON                                  236.296  \n",
       "ZYKADIA; CERITINIB                                  559.156  \n",
       "ZYTIGA; ABIRATERONE ACETATE                         391.555  \n",
       "\n",
       "[932 rows x 14 columns]"
      ]
     },
     "execution_count": 212,
     "metadata": {},
     "output_type": "execute_result"
    }
   ],
   "source": [
    "if 'MolWt' not in df.columns:\n",
    "    df['MolWt'] = df['molecules'].apply(Descriptors.MolWt)\n",
    "\n",
    "df"
   ]
  },
  {
   "cell_type": "code",
   "execution_count": 213,
   "metadata": {},
   "outputs": [
    {
     "data": {
      "text/plain": [
       "30"
      ]
     },
     "execution_count": 213,
     "metadata": {},
     "output_type": "execute_result"
    }
   ],
   "source": [
    "large_mols = df[df['MolWt'] > 800]\n",
    "len(large_mols)"
   ]
  },
  {
   "cell_type": "code",
   "execution_count": 214,
   "metadata": {},
   "outputs": [],
   "source": [
    "img = Draw.MolsToGridImage(\n",
    "    large_mols['molecules'],\n",
    "    molsPerRow=4,\n",
    "    subImgSize=(400, 400),\n",
    "    legends=[str(x) for x in large_mols['MolWt']]\n",
    ")\n",
    "#img"
   ]
  },
  {
   "cell_type": "code",
   "execution_count": 215,
   "metadata": {},
   "outputs": [
    {
     "data": {
      "text/plain": [
       "33"
      ]
     },
     "execution_count": 215,
     "metadata": {},
     "output_type": "execute_result"
    }
   ],
   "source": [
    "medium_mols = df[(df['MolWt'] > 600) & (df['MolWt'] < 800)]\n",
    "len(medium_mols)"
   ]
  },
  {
   "cell_type": "code",
   "execution_count": 216,
   "metadata": {},
   "outputs": [],
   "source": [
    "img = Draw.MolsToGridImage(\n",
    "    medium_mols['molecules'],\n",
    "    molsPerRow=4,\n",
    "    subImgSize=(400, 400),\n",
    "    legends=[str(x) for x in medium_mols['MolWt']]\n",
    ")\n",
    "#img"
   ]
  },
  {
   "cell_type": "code",
   "execution_count": 217,
   "metadata": {},
   "outputs": [
    {
     "data": {
      "text/plain": [
       "869"
      ]
     },
     "execution_count": 217,
     "metadata": {},
     "output_type": "execute_result"
    }
   ],
   "source": [
    "# Remove large mols\n",
    "df = df[df['MolWt'] < 600]\n",
    "len(df)"
   ]
  },
  {
   "cell_type": "code",
   "execution_count": 218,
   "metadata": {},
   "outputs": [],
   "source": [
    "def data_for_receptor(df, receptor_name, seed=1):\n",
    "    '''\n",
    "    This function takes the dataframe created for all receptors and returns\n",
    "    training, validation and test data that can be used in a GraphConvModel.\n",
    "    '''\n",
    "    \n",
    "    # This code takes the initial df and republish it with data only on one receptor\n",
    "    df_receptor =  df[[receptor_name, 'molecules']]\n",
    "    # Applying a mask to remove possible 0 values.\n",
    "    mask = df_receptor[receptor_name] == 0.0\n",
    "    df_receptor = df_receptor.drop(df[mask].index)\n",
    "\n",
    "    feat = dc.feat.ConvMolFeaturizer()\n",
    "    X = feat.featurize(df_receptor['molecules'])\n",
    "    y = df_receptor[receptor_name].to_numpy()\n",
    "    ids = df_receptor.index\n",
    "\n",
    "    # Create dataset for deepchem\n",
    "    dataset = dc.data.NumpyDataset(X=X, y=y, ids=ids)\n",
    "\n",
    "    # Transform the output data for regression\n",
    "    transformer = dc.trans.NormalizationTransformer(transform_y=True, dataset=dataset)\n",
    "    dataset = transformer.transform(dataset)\n",
    "\n",
    "    # split data\n",
    "    splitter = dc.splits.RandomSplitter()\n",
    "    train_dataset, valid_dataset, test_dataset = splitter.train_valid_test_split(\n",
    "    dataset = dataset,\n",
    "    frac_train = 0.8,\n",
    "    frac_valid = 0.1,\n",
    "    frac_test = 0.1,\n",
    "    seed=seed,\n",
    "    )\n",
    "\n",
    "    return train_dataset, valid_dataset, test_dataset, transformer"
   ]
  },
  {
   "cell_type": "code",
   "execution_count": 219,
   "metadata": {},
   "outputs": [],
   "source": [
    "metrics = [\n",
    "    dc.metrics.Metric(dc.metrics.rms_score),\n",
    "    dc.metrics.Metric(dc.metrics.mean_absolute_error),\n",
    "    dc.metrics.Metric(dc.metrics.r2_score),\n",
    "]"
   ]
  },
  {
   "cell_type": "code",
   "execution_count": 220,
   "metadata": {},
   "outputs": [
    {
     "name": "stdout",
     "output_type": "stream",
     "text": [
      "Step 10 validation: rms_score=2.27889 mean_absolute_error=1.7456 r2_score=0.0291174\n",
      "Step 20 validation: rms_score=2.22082 mean_absolute_error=1.72339 r2_score=0.077968\n",
      "Step 30 validation: rms_score=2.18748 mean_absolute_error=1.72159 r2_score=0.105443\n",
      "Step 40 validation: rms_score=2.13435 mean_absolute_error=1.68203 r2_score=0.148368\n",
      "Step 50 validation: rms_score=2.10692 mean_absolute_error=1.67014 r2_score=0.170115\n",
      "Step 60 validation: rms_score=2.02261 mean_absolute_error=1.57832 r2_score=0.235207\n",
      "Step 70 validation: rms_score=1.99205 mean_absolute_error=1.56264 r2_score=0.258142\n",
      "Step 80 validation: rms_score=1.97134 mean_absolute_error=1.54983 r2_score=0.273483\n",
      "Step 90 validation: rms_score=1.93395 mean_absolute_error=1.50412 r2_score=0.300784\n",
      "Step 100 validation: rms_score=1.93279 mean_absolute_error=1.52167 r2_score=0.301626\n",
      "Step 110 validation: rms_score=1.89207 mean_absolute_error=1.48089 r2_score=0.33074\n",
      "Step 120 validation: rms_score=1.86239 mean_absolute_error=1.45066 r2_score=0.35157\n",
      "Step 130 validation: rms_score=1.84438 mean_absolute_error=1.43496 r2_score=0.364051\n",
      "Step 140 validation: rms_score=1.8402 mean_absolute_error=1.43762 r2_score=0.366929\n",
      "Step 150 validation: rms_score=1.8068 mean_absolute_error=1.41075 r2_score=0.389705\n",
      "Step 160 validation: rms_score=1.7888 mean_absolute_error=1.39421 r2_score=0.401803\n",
      "Step 170 validation: rms_score=1.79321 mean_absolute_error=1.39138 r2_score=0.398852\n",
      "Step 180 validation: rms_score=1.82154 mean_absolute_error=1.41926 r2_score=0.379707\n",
      "Step 190 validation: rms_score=1.78185 mean_absolute_error=1.38188 r2_score=0.406442\n",
      "Step 200 validation: rms_score=1.75399 mean_absolute_error=1.35992 r2_score=0.424855\n",
      "Step 210 validation: rms_score=1.74227 mean_absolute_error=1.34949 r2_score=0.432521\n",
      "Step 220 validation: rms_score=1.73815 mean_absolute_error=1.34624 r2_score=0.435196\n",
      "Step 230 validation: rms_score=1.72626 mean_absolute_error=1.33108 r2_score=0.442902\n",
      "Step 240 validation: rms_score=1.72652 mean_absolute_error=1.33639 r2_score=0.44273\n",
      "Step 250 validation: rms_score=1.71251 mean_absolute_error=1.32141 r2_score=0.451737\n",
      "Step 260 validation: rms_score=1.73556 mean_absolute_error=1.34551 r2_score=0.436879\n",
      "Step 270 validation: rms_score=1.68784 mean_absolute_error=1.29888 r2_score=0.467423\n",
      "Step 280 validation: rms_score=1.68839 mean_absolute_error=1.29009 r2_score=0.467075\n",
      "Step 290 validation: rms_score=1.70159 mean_absolute_error=1.31537 r2_score=0.458712\n",
      "Step 300 validation: rms_score=1.68104 mean_absolute_error=1.29742 r2_score=0.471703\n",
      "Step 310 validation: rms_score=1.6471 mean_absolute_error=1.26478 r2_score=0.492823\n",
      "Step 320 validation: rms_score=1.66399 mean_absolute_error=1.28804 r2_score=0.482368\n",
      "Step 330 validation: rms_score=1.64251 mean_absolute_error=1.27196 r2_score=0.495647\n",
      "Step 340 validation: rms_score=1.63184 mean_absolute_error=1.24997 r2_score=0.502175\n",
      "Step 350 validation: rms_score=1.62954 mean_absolute_error=1.24462 r2_score=0.503579\n",
      "Step 360 validation: rms_score=1.62724 mean_absolute_error=1.25151 r2_score=0.50498\n",
      "Step 370 validation: rms_score=1.62503 mean_absolute_error=1.25296 r2_score=0.50632\n",
      "Step 380 validation: rms_score=1.61552 mean_absolute_error=1.23821 r2_score=0.512082\n",
      "Step 390 validation: rms_score=1.61117 mean_absolute_error=1.23373 r2_score=0.51471\n",
      "Step 400 validation: rms_score=1.60601 mean_absolute_error=1.22546 r2_score=0.517812\n",
      "Step 410 validation: rms_score=1.59937 mean_absolute_error=1.22008 r2_score=0.521793\n",
      "Step 420 validation: rms_score=1.59806 mean_absolute_error=1.22154 r2_score=0.522574\n",
      "Step 430 validation: rms_score=1.5969 mean_absolute_error=1.22494 r2_score=0.523263\n",
      "Step 440 validation: rms_score=1.59986 mean_absolute_error=1.22849 r2_score=0.521497\n",
      "Step 450 validation: rms_score=1.57616 mean_absolute_error=1.20351 r2_score=0.535566\n",
      "Step 460 validation: rms_score=1.57609 mean_absolute_error=1.19147 r2_score=0.535611\n",
      "Step 470 validation: rms_score=1.57795 mean_absolute_error=1.20283 r2_score=0.534511\n",
      "Step 480 validation: rms_score=1.57772 mean_absolute_error=1.20166 r2_score=0.534647\n",
      "Step 490 validation: rms_score=1.57264 mean_absolute_error=1.19178 r2_score=0.537642\n",
      "Step 500 validation: rms_score=1.56735 mean_absolute_error=1.17475 r2_score=0.540745\n",
      "Step 510 validation: rms_score=1.55959 mean_absolute_error=1.1762 r2_score=0.545282\n",
      "Step 520 validation: rms_score=1.5627 mean_absolute_error=1.18866 r2_score=0.543466\n",
      "Step 530 validation: rms_score=1.55583 mean_absolute_error=1.18486 r2_score=0.547474\n",
      "Step 540 validation: rms_score=1.55129 mean_absolute_error=1.16398 r2_score=0.550107\n",
      "Step 550 validation: rms_score=1.54541 mean_absolute_error=1.17112 r2_score=0.553514\n",
      "Step 560 validation: rms_score=1.53543 mean_absolute_error=1.15853 r2_score=0.559261\n",
      "Step 570 validation: rms_score=1.53531 mean_absolute_error=1.15351 r2_score=0.559331\n",
      "Step 580 validation: rms_score=1.53734 mean_absolute_error=1.1554 r2_score=0.558166\n",
      "Step 590 validation: rms_score=1.54688 mean_absolute_error=1.17054 r2_score=0.552664\n",
      "Step 600 validation: rms_score=1.53249 mean_absolute_error=1.15051 r2_score=0.560949\n",
      "Step 610 validation: rms_score=1.51876 mean_absolute_error=1.13048 r2_score=0.568781\n",
      "Step 620 validation: rms_score=1.51727 mean_absolute_error=1.12521 r2_score=0.569624\n",
      "Step 630 validation: rms_score=1.52125 mean_absolute_error=1.13101 r2_score=0.567366\n",
      "Step 640 validation: rms_score=1.53168 mean_absolute_error=1.15025 r2_score=0.561411\n",
      "Step 650 validation: rms_score=1.51505 mean_absolute_error=1.13077 r2_score=0.570886\n",
      "Step 660 validation: rms_score=1.5066 mean_absolute_error=1.12883 r2_score=0.575655\n",
      "Step 670 validation: rms_score=1.49826 mean_absolute_error=1.12184 r2_score=0.580342\n",
      "Step 680 validation: rms_score=1.49584 mean_absolute_error=1.1274 r2_score=0.581699\n",
      "Step 690 validation: rms_score=1.49038 mean_absolute_error=1.1206 r2_score=0.584744\n",
      "Step 700 validation: rms_score=1.50093 mean_absolute_error=1.12696 r2_score=0.578846\n",
      "Step 710 validation: rms_score=1.49786 mean_absolute_error=1.12046 r2_score=0.580564\n",
      "Step 720 validation: rms_score=1.49115 mean_absolute_error=1.11659 r2_score=0.584314\n",
      "Step 730 validation: rms_score=1.50256 mean_absolute_error=1.13048 r2_score=0.577929\n",
      "Step 740 validation: rms_score=1.49576 mean_absolute_error=1.12513 r2_score=0.581742\n",
      "Step 750 validation: rms_score=1.4724 mean_absolute_error=1.1072 r2_score=0.594705\n",
      "Step 760 validation: rms_score=1.46592 mean_absolute_error=1.10176 r2_score=0.598262\n",
      "Step 770 validation: rms_score=1.45937 mean_absolute_error=1.09416 r2_score=0.601847\n",
      "Step 780 validation: rms_score=1.4735 mean_absolute_error=1.10394 r2_score=0.594098\n",
      "Step 790 validation: rms_score=1.48963 mean_absolute_error=1.11554 r2_score=0.585163\n",
      "Step 800 validation: rms_score=1.47454 mean_absolute_error=1.09896 r2_score=0.593524\n",
      "Step 810 validation: rms_score=1.4679 mean_absolute_error=1.09884 r2_score=0.597176\n",
      "Step 820 validation: rms_score=1.46493 mean_absolute_error=1.10282 r2_score=0.598808\n",
      "Step 830 validation: rms_score=1.46195 mean_absolute_error=1.1006 r2_score=0.600438\n",
      "Step 840 validation: rms_score=1.47066 mean_absolute_error=1.10381 r2_score=0.595661\n",
      "Step 850 validation: rms_score=1.46527 mean_absolute_error=1.08919 r2_score=0.598618\n",
      "Step 860 validation: rms_score=1.44938 mean_absolute_error=1.08119 r2_score=0.60728\n",
      "Step 870 validation: rms_score=1.45006 mean_absolute_error=1.08657 r2_score=0.606911\n",
      "Step 880 validation: rms_score=1.44777 mean_absolute_error=1.0888 r2_score=0.608151\n",
      "Step 890 validation: rms_score=1.43947 mean_absolute_error=1.08475 r2_score=0.61263\n",
      "Step 900 validation: rms_score=1.44461 mean_absolute_error=1.08901 r2_score=0.609856\n",
      "Step 910 validation: rms_score=1.44732 mean_absolute_error=1.08494 r2_score=0.608394\n",
      "Step 920 validation: rms_score=1.43094 mean_absolute_error=1.06255 r2_score=0.617209\n",
      "Step 930 validation: rms_score=1.43539 mean_absolute_error=1.0658 r2_score=0.614822\n",
      "Step 940 validation: rms_score=1.43322 mean_absolute_error=1.06426 r2_score=0.615987\n",
      "Step 950 validation: rms_score=1.43864 mean_absolute_error=1.07745 r2_score=0.613076\n",
      "Step 960 validation: rms_score=1.44943 mean_absolute_error=1.09133 r2_score=0.607249\n",
      "Step 970 validation: rms_score=1.43413 mean_absolute_error=1.07909 r2_score=0.6155\n",
      "Step 980 validation: rms_score=1.42199 mean_absolute_error=1.07046 r2_score=0.621982\n",
      "Step 990 validation: rms_score=1.42244 mean_absolute_error=1.06601 r2_score=0.621743\n",
      "Step 1000 validation: rms_score=1.42614 mean_absolute_error=1.06565 r2_score=0.61977\n",
      "Step 1010 validation: rms_score=1.43128 mean_absolute_error=1.06711 r2_score=0.617028\n",
      "Step 1020 validation: rms_score=1.43434 mean_absolute_error=1.06786 r2_score=0.615388\n",
      "Step 1030 validation: rms_score=1.42625 mean_absolute_error=1.06134 r2_score=0.619713\n",
      "Step 1040 validation: rms_score=1.41664 mean_absolute_error=1.05748 r2_score=0.62482\n",
      "Step 1050 validation: rms_score=1.41449 mean_absolute_error=1.05496 r2_score=0.625959\n",
      "Step 1060 validation: rms_score=1.40841 mean_absolute_error=1.05971 r2_score=0.629168\n",
      "Step 1070 validation: rms_score=1.41294 mean_absolute_error=1.07065 r2_score=0.626776\n",
      "Step 1080 validation: rms_score=1.41436 mean_absolute_error=1.06371 r2_score=0.626025\n",
      "Step 1090 validation: rms_score=1.42535 mean_absolute_error=1.06345 r2_score=0.62019\n",
      "Step 1100 validation: rms_score=1.44203 mean_absolute_error=1.07129 r2_score=0.611253\n",
      "Step 1110 validation: rms_score=1.41185 mean_absolute_error=1.04756 r2_score=0.627355\n",
      "Step 1120 validation: rms_score=1.41445 mean_absolute_error=1.05097 r2_score=0.625979\n",
      "Step 1130 validation: rms_score=1.41763 mean_absolute_error=1.06385 r2_score=0.624294\n",
      "Step 1140 validation: rms_score=1.4223 mean_absolute_error=1.06767 r2_score=0.621816\n",
      "Step 1150 validation: rms_score=1.40716 mean_absolute_error=1.04587 r2_score=0.629825\n",
      "Step 1160 validation: rms_score=1.40851 mean_absolute_error=1.04503 r2_score=0.629114\n",
      "Step 1170 validation: rms_score=1.4028 mean_absolute_error=1.04442 r2_score=0.632112\n",
      "Step 1180 validation: rms_score=1.41632 mean_absolute_error=1.0637 r2_score=0.624987\n",
      "Step 1190 validation: rms_score=1.41178 mean_absolute_error=1.05263 r2_score=0.627391\n",
      "Step 1200 validation: rms_score=1.39636 mean_absolute_error=1.03593 r2_score=0.635487\n",
      "Step 1210 validation: rms_score=1.39371 mean_absolute_error=1.02744 r2_score=0.636868\n",
      "Step 1220 validation: rms_score=1.40766 mean_absolute_error=1.04697 r2_score=0.62956\n",
      "Step 1230 validation: rms_score=1.40085 mean_absolute_error=1.04719 r2_score=0.633139\n",
      "Step 1240 validation: rms_score=1.40417 mean_absolute_error=1.04306 r2_score=0.631397\n",
      "Step 1250 validation: rms_score=1.417 mean_absolute_error=1.04535 r2_score=0.624627\n",
      "Step 1260 validation: rms_score=1.41038 mean_absolute_error=1.04578 r2_score=0.628127\n",
      "Step 1270 validation: rms_score=1.41643 mean_absolute_error=1.05332 r2_score=0.624929\n",
      "Step 1280 validation: rms_score=1.39555 mean_absolute_error=1.03613 r2_score=0.63591\n",
      "Step 1290 validation: rms_score=1.38428 mean_absolute_error=1.0295 r2_score=0.641765\n",
      "Step 1300 validation: rms_score=1.38823 mean_absolute_error=1.03128 r2_score=0.639716\n",
      "Step 1310 validation: rms_score=1.41422 mean_absolute_error=1.04963 r2_score=0.626101\n",
      "Step 1320 validation: rms_score=1.40133 mean_absolute_error=1.03946 r2_score=0.632884\n"
     ]
    },
    {
     "data": {
      "text/plain": [
       "0.20352442264556886"
      ]
     },
     "execution_count": 220,
     "metadata": {},
     "output_type": "execute_result"
    }
   ],
   "source": [
    "train_dataset, valid_dataset, test_dataset, transformer = data_for_receptor(df, 'BCRP', seed=1)\n",
    "callback = dc.models.ValidationCallback(dataset=valid_dataset, interval=10, metrics=metrics, transformers=[transformer])\n",
    "\n",
    "model = GraphConvModel(\n",
    "    graph_conv_layers=[64, 64],\n",
    "    batch_size=16,\n",
    "    n_tasks=1,\n",
    "    mode='regression',\n",
    "    learning_rate=0.0001,\n",
    "    dropout=0.0,\n",
    "    batch_normalize=False,\n",
    ")\n",
    "\n",
    "model.fit(train_dataset, nb_epoch=30, callbacks=callback)"
   ]
  },
  {
   "cell_type": "code",
   "execution_count": 221,
   "metadata": {},
   "outputs": [],
   "source": [
    "train_preds = transformer.untransform(model.predict(train_dataset))\n",
    "test_preds = transformer.untransform(model.predict(test_dataset))\n",
    "train_plot_dataset = transformer.untransform(train_dataset.y)\n",
    "test_plot_dataset = transformer.untransform(test_dataset.y)"
   ]
  },
  {
   "cell_type": "code",
   "execution_count": 222,
   "metadata": {},
   "outputs": [
    {
     "data": {
      "image/png": "[encoded data removed]",
      "text/plain": [
       "<Figure size 900x500 with 1 Axes>"
      ]
     },
     "metadata": {},
     "output_type": "display_data"
    }
   ],
   "source": [
    "plt.figure(figsize=(9,5))\n",
    "plt.plot(train_plot_dataset, train_plot_dataset, label='True values')\n",
    "plt.scatter(train_plot_dataset, train_preds, marker='.', label='train predictions')\n",
    "plt.scatter(test_plot_dataset, test_preds, marker='.', label='Test predictions')\n",
    "plt.legend()\n",
    "plt.title('GC single task')\n",
    "plt.savefig('GCS.png')"
   ]
  },
  {
   "cell_type": "code",
   "execution_count": 223,
   "metadata": {},
   "outputs": [
    {
     "name": "stdout",
     "output_type": "stream",
     "text": [
      "Test set\n",
      "  Average:  -6.3414087\n",
      "Std. dev.:  1.6772476\n",
      "    RMSE :  1.3641719574262734\n"
     ]
    }
   ],
   "source": [
    "test_mean = np.mean(test_preds)\n",
    "test_std  = np.std(test_preds)\n",
    "\n",
    "metric = dc.metrics.Metric(dc.metrics.rms_score)\n",
    "RMSE   = model.evaluate(test_dataset, metric, transformers=[transformer]).get('rms_score')\n",
    "\n",
    "print('Test set')\n",
    "print('  Average: ', test_mean)\n",
    "print('Std. dev.: ', test_std)\n",
    "print('    RMSE : ', RMSE)"
   ]
  },
  {
   "cell_type": "code",
   "execution_count": 224,
   "metadata": {},
   "outputs": [
    {
     "data": {
      "text/plain": [
       "0.598819582044053"
      ]
     },
     "execution_count": 224,
     "metadata": {},
     "output_type": "execute_result"
    }
   ],
   "source": [
    "metric1 = dc.metrics.Metric(dc.metrics.r2_score)\n",
    "model.evaluate(test_dataset, metric1, transformers=[transformer]).get('r2_score')\n",
    "\n"
   ]
  },
  {
   "attachments": {},
   "cell_type": "markdown",
   "metadata": {},
   "source": [
    "# MACCS"
   ]
  },
  {
   "cell_type": "code",
   "execution_count": 254,
   "metadata": {},
   "outputs": [],
   "source": [
    "import torch\n",
    "import random\n",
    "import tensorflow as tf\n",
    "from rdkit.Chem import MACCSkeys\n",
    "from deepchem.models import MultitaskRegressor\n",
    "\n",
    "def set_seed(seed):\n",
    "    torch.manual_seed(seed)\n",
    "    np.random.seed(seed)\n",
    "    random.seed(seed)\n",
    "\n",
    "    if torch.cuda.is_available():\n",
    "        torch.cuda.manual_seed_all(seed)\n",
    "        torch.backends.cudnn.deterministic = True\n",
    "        torch.backends.cudnn.benchmark = False\n",
    "\n",
    "set_seed(42)"
   ]
  },
  {
   "cell_type": "code",
   "execution_count": 255,
   "metadata": {},
   "outputs": [],
   "source": [
    "fingerprints = []\n",
    "for mol in df['molecules']:\n",
    "    fingerprint = MACCSkeys.GenMACCSKeys(mol)\n",
    "    fingerprints.append(np.array(fingerprint).astype(np.float32))"
   ]
  },
  {
   "cell_type": "code",
   "execution_count": 256,
   "metadata": {},
   "outputs": [],
   "source": [
    "X = fingerprints\n",
    "y = df['BCRP'].to_numpy()\n",
    "ids = df.index\n",
    "\n",
    "dataset = dc.data.NumpyDataset(X=X, y=y, ids=ids)"
   ]
  },
  {
   "cell_type": "code",
   "execution_count": 257,
   "metadata": {},
   "outputs": [],
   "source": [
    "splitter = dc.splits.RandomSplitter()\n",
    "train_dataset, valid_dataset, test_dataset = splitter.train_valid_test_split(\n",
    "    dataset = dataset,\n",
    "    frac_train = 0.8,\n",
    "    frac_valid = 0.1,\n",
    "    frac_test = 0.1,\n",
    "    seed=5,\n",
    ")"
   ]
  },
  {
   "cell_type": "code",
   "execution_count": 258,
   "metadata": {},
   "outputs": [],
   "source": [
    "n_feat = dataset.X.shape[1]\n",
    "tasks = 1"
   ]
  },
  {
   "cell_type": "code",
   "execution_count": 267,
   "metadata": {},
   "outputs": [
    {
     "name": "stdout",
     "output_type": "stream",
     "text": [
      "Step 100 validation: rms_score=2.0732 mean_absolute_error=1.61402 r2_score=0.0805633\n",
      "Step 200 validation: rms_score=2.0138 mean_absolute_error=1.56973 r2_score=0.13249\n",
      "Step 300 validation: rms_score=1.87057 mean_absolute_error=1.46884 r2_score=0.251502\n",
      "Step 400 validation: rms_score=1.68329 mean_absolute_error=1.3315 r2_score=0.39388\n",
      "Step 500 validation: rms_score=1.58906 mean_absolute_error=1.26063 r2_score=0.459839\n",
      "Step 600 validation: rms_score=1.54356 mean_absolute_error=1.21858 r2_score=0.490335\n",
      "Step 700 validation: rms_score=1.51377 mean_absolute_error=1.20152 r2_score=0.509815\n",
      "Step 800 validation: rms_score=1.49276 mean_absolute_error=1.19331 r2_score=0.523324\n",
      "Step 900 validation: rms_score=1.4749 mean_absolute_error=1.18673 r2_score=0.534664\n",
      "Step 1000 validation: rms_score=1.45439 mean_absolute_error=1.17675 r2_score=0.547519\n",
      "Step 1100 validation: rms_score=1.43825 mean_absolute_error=1.16703 r2_score=0.557507\n",
      "Step 1200 validation: rms_score=1.42303 mean_absolute_error=1.16114 r2_score=0.566822\n",
      "Step 1300 validation: rms_score=1.40938 mean_absolute_error=1.1537 r2_score=0.575091\n",
      "Step 1400 validation: rms_score=1.39726 mean_absolute_error=1.144 r2_score=0.58237\n",
      "Step 1500 validation: rms_score=1.38173 mean_absolute_error=1.13332 r2_score=0.591601\n",
      "Step 1600 validation: rms_score=1.37132 mean_absolute_error=1.12334 r2_score=0.597732\n",
      "Step 1700 validation: rms_score=1.36218 mean_absolute_error=1.11462 r2_score=0.603073\n",
      "Step 1800 validation: rms_score=1.35423 mean_absolute_error=1.10787 r2_score=0.607691\n",
      "Step 1900 validation: rms_score=1.34679 mean_absolute_error=1.10177 r2_score=0.611994\n",
      "Step 2000 validation: rms_score=1.3421 mean_absolute_error=1.09917 r2_score=0.614688\n",
      "Step 2100 validation: rms_score=1.33791 mean_absolute_error=1.09455 r2_score=0.617091\n"
     ]
    },
    {
     "data": {
      "text/plain": [
       "1.5484426879882813"
      ]
     },
     "execution_count": 267,
     "metadata": {},
     "output_type": "execute_result"
    }
   ],
   "source": [
    "model = dc.models.MultitaskRegressor(\n",
    "    n_tasks=tasks,\n",
    "    n_features=n_feat,\n",
    "    layer_sizes=[100, 100, 100],\n",
    "    dropouts=0.0,\n",
    "    learning_rate=0.001,\n",
    "    activation_fns=[torch.sigmoid]\n",
    ")\n",
    "callback = dc.models.ValidationCallback(dataset=valid_dataset, interval=100, metrics=metrics)\n",
    "model.fit(train_dataset, nb_epoch=300, callbacks=callback)"
   ]
  },
  {
   "cell_type": "code",
   "execution_count": 268,
   "metadata": {},
   "outputs": [],
   "source": [
    "train_preds = model.predict(train_dataset).flatten()\n",
    "test_preds = model.predict(test_dataset).flatten()\n",
    "\n",
    "train_plot_dataset = train_dataset.y\n",
    "test_plot_dataset = test_dataset.y"
   ]
  },
  {
   "cell_type": "code",
   "execution_count": 269,
   "metadata": {},
   "outputs": [
    {
     "data": {
      "text/plain": [
       "Text(0.5, 1.0, 'MACCS model')"
      ]
     },
     "execution_count": 269,
     "metadata": {},
     "output_type": "execute_result"
    },
    {
     "data": {
      "image/png": "[encoded data removed]",
      "text/plain": [
       "<Figure size 900x500 with 1 Axes>"
      ]
     },
     "metadata": {},
     "output_type": "display_data"
    }
   ],
   "source": [
    "plt.figure(figsize=(9,5))\n",
    "plt.plot(train_plot_dataset, train_plot_dataset, label='True values')\n",
    "plt.scatter(train_plot_dataset, train_preds, marker='.', label='train predictions')\n",
    "plt.scatter(test_plot_dataset, test_preds, marker='.', label='Test predictions')\n",
    "plt.legend()\n",
    "plt.title('MACCS model')"
   ]
  },
  {
   "cell_type": "code",
   "execution_count": 270,
   "metadata": {},
   "outputs": [
    {
     "name": "stdout",
     "output_type": "stream",
     "text": [
      "Test set\n",
      "Average  :  -6.810709\n",
      "Std. dev.:  1.5464667\n",
      "    RMSE :  1.494972002385245\n"
     ]
    }
   ],
   "source": [
    "test_mean = np.mean(test_preds)\n",
    "test_std  = np.std(test_preds)\n",
    "\n",
    "metric = dc.metrics.Metric(dc.metrics.rms_score)\n",
    "RMSE   = model.evaluate(test_dataset, metric).get('rms_score')\n",
    "\n",
    "print('Test set')\n",
    "print('Average  : ', test_mean)\n",
    "print('Std. dev.: ', test_std)\n",
    "print('    RMSE : ', RMSE)"
   ]
  }
 ],
 "metadata": {
  "kernelspec": {
   "display_name": "Python 3",
   "language": "python",
   "name": "python3"
  },
  "language_info": {
   "codemirror_mode": {
    "name": "ipython",
    "version": 3
   },
   "file_extension": ".py",
   "mimetype": "text/x-python",
   "name": "python",
   "nbconvert_exporter": "python",
   "pygments_lexer": "ipython3",
   "version": "3.8.10"
  },
  "orig_nbformat": 4
 },
 "nbformat": 4,
 "nbformat_minor": 2
}
