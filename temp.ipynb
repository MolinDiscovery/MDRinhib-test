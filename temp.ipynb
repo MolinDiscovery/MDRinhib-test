{
 "cells": [
  {
   "cell_type": "code",
   "execution_count": 6,
   "metadata": {},
   "outputs": [],
   "source": [
    "from deepchem import deepchem as dc\n",
    "import numpy as np\n",
    "\n",
    "n_samples = 10\n",
    "n_features = 3\n",
    "n_tasks = 1\n",
    "ids = np.arange(n_samples)\n",
    "X = np.random.rand(n_samples, n_features)\n",
    "y = np.random.rand(n_samples, n_tasks)\n",
    "w = np.ones((n_samples, n_tasks))\n",
    "dataset = dc.data.NumpyDataset(X, y, w, ids)\n",
    "transformer = dc.trans.MinMaxTransformer(transform_y=True, dataset=dataset)\n",
    "dataset = transformer.transform(dataset)"
   ]
  },
  {
   "cell_type": "code",
   "execution_count": 10,
   "metadata": {},
   "outputs": [
    {
     "data": {
      "text/plain": [
       "array([[0.6527816 ],\n",
       "       [0.87813798],\n",
       "       [0.63630514],\n",
       "       [0.72805668],\n",
       "       [0.33299548],\n",
       "       [0.97876401],\n",
       "       [0.83362034],\n",
       "       [0.68411852],\n",
       "       [0.516991  ],\n",
       "       [0.97595204]])"
      ]
     },
     "execution_count": 10,
     "metadata": {},
     "output_type": "execute_result"
    }
   ],
   "source": [
    "y"
   ]
  },
  {
   "cell_type": "code",
   "execution_count": 11,
   "metadata": {},
   "outputs": [
    {
     "data": {
      "text/plain": [
       "array([[0.49520239],\n",
       "       [0.84417632],\n",
       "       [0.4696879 ],\n",
       "       [0.61176905],\n",
       "       [0.        ],\n",
       "       [1.        ],\n",
       "       [0.77523886],\n",
       "       [0.54372894],\n",
       "       [0.28492487],\n",
       "       [0.99564555]])"
      ]
     },
     "execution_count": 11,
     "metadata": {},
     "output_type": "execute_result"
    }
   ],
   "source": [
    "dataset.y"
   ]
  }
 ],
 "metadata": {
  "kernelspec": {
   "display_name": "Python 3",
   "language": "python",
   "name": "python3"
  },
  "language_info": {
   "codemirror_mode": {
    "name": "ipython",
    "version": 3
   },
   "file_extension": ".py",
   "mimetype": "text/x-python",
   "name": "python",
   "nbconvert_exporter": "python",
   "pygments_lexer": "ipython3",
   "version": "3.8.10"
  },
  "orig_nbformat": 4
 },
 "nbformat": 4,
 "nbformat_minor": 2
}
