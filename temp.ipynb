{
 "cells": [
  {
   "cell_type": "code",
   "execution_count": null,
   "metadata": {},
   "outputs": [],
   "source": [
    "import deepchem as dc\n",
    "from sklearn.ensemble import RandomForestRegressor\n",
    "from deepchem.models import SklearnModel\n",
    "\n",
    "# Load Delaney (ESOL) dataset\n",
    "tasks, datasets, transformers = dc.molnet.load_delaney(featurizer='ECFP', splitter='random')\n",
    "train_dataset, valid_dataset, test_dataset = datasets\n",
    "\n",
    "# Initialize RandomForestRegressor from scikit-learn\n",
    "rf_regressor = RandomForestRegressor(n_estimators=100, max_depth=None, random_state=42)\n",
    "\n",
    "# Wrap the RandomForestRegressor with DeepChem's SklearnModel\n",
    "model = SklearnModel(model=rf_regressor, model_dir=\"rf_regression\")\n",
    "\n",
    "# Train the model on the training dataset\n",
    "model.fit(train_dataset)\n",
    "\n",
    "# Evaluate the model using the validation dataset\n",
    "metric = dc.metrics.Metric(dc.metrics.pearson_r2_score)\n",
    "valid_score = model.evaluate(valid_dataset, [metric], transformers)\n",
    "print(f\"Validation Pearson R^2 score: {valid_score['pearson_r2_score']:.3f}\")\n",
    "\n",
    "# Evaluate the model using the test dataset\n",
    "test_score = model.evaluate(test_dataset, [metric], transformers)\n",
    "print(f\"Test Pearson R^2 score: {test_score['pearson_r2_score']:.3f}\")\n"
   ]
  }
 ],
 "metadata": {
  "language_info": {
   "name": "python"
  },
  "orig_nbformat": 4
 },
 "nbformat": 4,
 "nbformat_minor": 2
}
